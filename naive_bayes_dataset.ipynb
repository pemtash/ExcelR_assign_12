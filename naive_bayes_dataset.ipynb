{
 "cells": [
  {
   "cell_type": "code",
   "execution_count": 1,
   "metadata": {
    "ExecuteTime": {
     "end_time": "2021-04-12T06:44:08.213877Z",
     "start_time": "2021-04-12T06:44:07.155357Z"
    }
   },
   "outputs": [],
   "source": [
    "import pandas as pd \n",
    "import numpy as np\n",
    "import matplotlib.pylab as plt"
   ]
  },
  {
   "cell_type": "code",
   "execution_count": 5,
   "metadata": {
    "ExecuteTime": {
     "end_time": "2021-04-12T06:45:31.024317Z",
     "start_time": "2021-04-12T06:45:30.953455Z"
    }
   },
   "outputs": [],
   "source": [
    "strain = pd.read_csv('SalaryData_Test.csv')"
   ]
  },
  {
   "cell_type": "code",
   "execution_count": 8,
   "metadata": {
    "ExecuteTime": {
     "end_time": "2021-04-12T06:46:08.798941Z",
     "start_time": "2021-04-12T06:46:08.763803Z"
    }
   },
   "outputs": [
    {
     "data": {
      "text/html": [
       "<div>\n",
       "<style scoped>\n",
       "    .dataframe tbody tr th:only-of-type {\n",
       "        vertical-align: middle;\n",
       "    }\n",
       "\n",
       "    .dataframe tbody tr th {\n",
       "        vertical-align: top;\n",
       "    }\n",
       "\n",
       "    .dataframe thead th {\n",
       "        text-align: right;\n",
       "    }\n",
       "</style>\n",
       "<table border=\"1\" class=\"dataframe\">\n",
       "  <thead>\n",
       "    <tr style=\"text-align: right;\">\n",
       "      <th></th>\n",
       "      <th>age</th>\n",
       "      <th>workclass</th>\n",
       "      <th>education</th>\n",
       "      <th>educationno</th>\n",
       "      <th>maritalstatus</th>\n",
       "      <th>occupation</th>\n",
       "      <th>relationship</th>\n",
       "      <th>race</th>\n",
       "      <th>sex</th>\n",
       "      <th>capitalgain</th>\n",
       "      <th>capitalloss</th>\n",
       "      <th>hoursperweek</th>\n",
       "      <th>native</th>\n",
       "      <th>Salary</th>\n",
       "    </tr>\n",
       "  </thead>\n",
       "  <tbody>\n",
       "    <tr>\n",
       "      <th>0</th>\n",
       "      <td>25</td>\n",
       "      <td>Private</td>\n",
       "      <td>11th</td>\n",
       "      <td>7</td>\n",
       "      <td>Never-married</td>\n",
       "      <td>Machine-op-inspct</td>\n",
       "      <td>Own-child</td>\n",
       "      <td>Black</td>\n",
       "      <td>Male</td>\n",
       "      <td>0</td>\n",
       "      <td>0</td>\n",
       "      <td>40</td>\n",
       "      <td>United-States</td>\n",
       "      <td>&lt;=50K</td>\n",
       "    </tr>\n",
       "    <tr>\n",
       "      <th>1</th>\n",
       "      <td>38</td>\n",
       "      <td>Private</td>\n",
       "      <td>HS-grad</td>\n",
       "      <td>9</td>\n",
       "      <td>Married-civ-spouse</td>\n",
       "      <td>Farming-fishing</td>\n",
       "      <td>Husband</td>\n",
       "      <td>White</td>\n",
       "      <td>Male</td>\n",
       "      <td>0</td>\n",
       "      <td>0</td>\n",
       "      <td>50</td>\n",
       "      <td>United-States</td>\n",
       "      <td>&lt;=50K</td>\n",
       "    </tr>\n",
       "    <tr>\n",
       "      <th>2</th>\n",
       "      <td>28</td>\n",
       "      <td>Local-gov</td>\n",
       "      <td>Assoc-acdm</td>\n",
       "      <td>12</td>\n",
       "      <td>Married-civ-spouse</td>\n",
       "      <td>Protective-serv</td>\n",
       "      <td>Husband</td>\n",
       "      <td>White</td>\n",
       "      <td>Male</td>\n",
       "      <td>0</td>\n",
       "      <td>0</td>\n",
       "      <td>40</td>\n",
       "      <td>United-States</td>\n",
       "      <td>&gt;50K</td>\n",
       "    </tr>\n",
       "    <tr>\n",
       "      <th>3</th>\n",
       "      <td>44</td>\n",
       "      <td>Private</td>\n",
       "      <td>Some-college</td>\n",
       "      <td>10</td>\n",
       "      <td>Married-civ-spouse</td>\n",
       "      <td>Machine-op-inspct</td>\n",
       "      <td>Husband</td>\n",
       "      <td>Black</td>\n",
       "      <td>Male</td>\n",
       "      <td>7688</td>\n",
       "      <td>0</td>\n",
       "      <td>40</td>\n",
       "      <td>United-States</td>\n",
       "      <td>&gt;50K</td>\n",
       "    </tr>\n",
       "    <tr>\n",
       "      <th>4</th>\n",
       "      <td>34</td>\n",
       "      <td>Private</td>\n",
       "      <td>10th</td>\n",
       "      <td>6</td>\n",
       "      <td>Never-married</td>\n",
       "      <td>Other-service</td>\n",
       "      <td>Not-in-family</td>\n",
       "      <td>White</td>\n",
       "      <td>Male</td>\n",
       "      <td>0</td>\n",
       "      <td>0</td>\n",
       "      <td>30</td>\n",
       "      <td>United-States</td>\n",
       "      <td>&lt;=50K</td>\n",
       "    </tr>\n",
       "  </tbody>\n",
       "</table>\n",
       "</div>"
      ],
      "text/plain": [
       "   age   workclass      education  educationno        maritalstatus  \\\n",
       "0   25     Private           11th            7        Never-married   \n",
       "1   38     Private        HS-grad            9   Married-civ-spouse   \n",
       "2   28   Local-gov     Assoc-acdm           12   Married-civ-spouse   \n",
       "3   44     Private   Some-college           10   Married-civ-spouse   \n",
       "4   34     Private           10th            6        Never-married   \n",
       "\n",
       "           occupation    relationship    race    sex  capitalgain  \\\n",
       "0   Machine-op-inspct       Own-child   Black   Male            0   \n",
       "1     Farming-fishing         Husband   White   Male            0   \n",
       "2     Protective-serv         Husband   White   Male            0   \n",
       "3   Machine-op-inspct         Husband   Black   Male         7688   \n",
       "4       Other-service   Not-in-family   White   Male            0   \n",
       "\n",
       "   capitalloss  hoursperweek          native  Salary  \n",
       "0            0            40   United-States   <=50K  \n",
       "1            0            50   United-States   <=50K  \n",
       "2            0            40   United-States    >50K  \n",
       "3            0            40   United-States    >50K  \n",
       "4            0            30   United-States   <=50K  "
      ]
     },
     "execution_count": 8,
     "metadata": {},
     "output_type": "execute_result"
    }
   ],
   "source": [
    "strain.head()"
   ]
  },
  {
   "cell_type": "code",
   "execution_count": 9,
   "metadata": {
    "ExecuteTime": {
     "end_time": "2021-04-12T06:46:29.990528Z",
     "start_time": "2021-04-12T06:46:29.982534Z"
    }
   },
   "outputs": [],
   "source": [
    "from sklearn.naive_bayes import GaussianNB"
   ]
  },
  {
   "cell_type": "code",
   "execution_count": 10,
   "metadata": {
    "ExecuteTime": {
     "end_time": "2021-04-12T06:46:36.446781Z",
     "start_time": "2021-04-12T06:46:36.438782Z"
    }
   },
   "outputs": [],
   "source": [
    "from sklearn.naive_bayes import MultinomialNB"
   ]
  },
  {
   "cell_type": "code",
   "execution_count": 11,
   "metadata": {
    "ExecuteTime": {
     "end_time": "2021-04-12T06:46:43.021487Z",
     "start_time": "2021-04-12T06:46:42.996593Z"
    }
   },
   "outputs": [],
   "source": [
    "from sklearn.model_selection import train_test_split"
   ]
  },
  {
   "cell_type": "code",
   "execution_count": 12,
   "metadata": {
    "ExecuteTime": {
     "end_time": "2021-04-12T06:46:49.792706Z",
     "start_time": "2021-04-12T06:46:49.775972Z"
    }
   },
   "outputs": [],
   "source": [
    "from sklearn.metrics import confusion_matrix"
   ]
  },
  {
   "cell_type": "code",
   "execution_count": 13,
   "metadata": {
    "ExecuteTime": {
     "end_time": "2021-04-12T06:47:00.370862Z",
     "start_time": "2021-04-12T06:47:00.354551Z"
    }
   },
   "outputs": [],
   "source": [
    "dftr=pd.DataFrame(strain)"
   ]
  },
  {
   "cell_type": "code",
   "execution_count": 14,
   "metadata": {
    "ExecuteTime": {
     "end_time": "2021-04-12T06:47:09.931699Z",
     "start_time": "2021-04-12T06:47:09.712847Z"
    }
   },
   "outputs": [
    {
     "data": {
      "text/plain": [
       "<matplotlib.collections.PathCollection at 0x221593c3850>"
      ]
     },
     "execution_count": 14,
     "metadata": {},
     "output_type": "execute_result"
    },
    {
     "data": {
      "image/png": "[encoded data removed]",
      "text/plain": [
       "<Figure size 432x288 with 1 Axes>"
      ]
     },
     "metadata": {
      "needs_background": "light"
     },
     "output_type": "display_data"
    }
   ],
   "source": [
    "plt.scatter(dftr.age,dftr.Salary)"
   ]
  },
  {
   "cell_type": "code",
   "execution_count": 15,
   "metadata": {
    "ExecuteTime": {
     "end_time": "2021-04-12T06:47:52.091704Z",
     "start_time": "2021-04-12T06:47:52.042768Z"
    }
   },
   "outputs": [
    {
     "name": "stdout",
     "output_type": "stream",
     "text": [
      "       age      workclass      education  educationno        maritalstatus  \\\n",
      "0       25        Private           11th            7        Never-married   \n",
      "1       38        Private        HS-grad            9   Married-civ-spouse   \n",
      "2       28      Local-gov     Assoc-acdm           12   Married-civ-spouse   \n",
      "3       44        Private   Some-college           10   Married-civ-spouse   \n",
      "4       34        Private           10th            6        Never-married   \n",
      "...    ...            ...            ...          ...                  ...   \n",
      "15055   33        Private      Bachelors           13        Never-married   \n",
      "15056   39        Private      Bachelors           13             Divorced   \n",
      "15057   38        Private      Bachelors           13   Married-civ-spouse   \n",
      "15058   44        Private      Bachelors           13             Divorced   \n",
      "15059   35   Self-emp-inc      Bachelors           13   Married-civ-spouse   \n",
      "\n",
      "               occupation    relationship                 race      sex  \\\n",
      "0       Machine-op-inspct       Own-child                Black     Male   \n",
      "1         Farming-fishing         Husband                White     Male   \n",
      "2         Protective-serv         Husband                White     Male   \n",
      "3       Machine-op-inspct         Husband                Black     Male   \n",
      "4           Other-service   Not-in-family                White     Male   \n",
      "...                   ...             ...                  ...      ...   \n",
      "15055      Prof-specialty       Own-child                White     Male   \n",
      "15056      Prof-specialty   Not-in-family                White   Female   \n",
      "15057      Prof-specialty         Husband                White     Male   \n",
      "15058        Adm-clerical       Own-child   Asian-Pac-Islander     Male   \n",
      "15059     Exec-managerial         Husband                White     Male   \n",
      "\n",
      "       capitalgain  capitalloss  hoursperweek          native  Salary  \\\n",
      "0                0            0            40   United-States   <=50K   \n",
      "1                0            0            50   United-States   <=50K   \n",
      "2                0            0            40   United-States    >50K   \n",
      "3             7688            0            40   United-States    >50K   \n",
      "4                0            0            30   United-States   <=50K   \n",
      "...            ...          ...           ...             ...     ...   \n",
      "15055            0            0            40   United-States   <=50K   \n",
      "15056            0            0            36   United-States   <=50K   \n",
      "15057            0            0            50   United-States   <=50K   \n",
      "15058         5455            0            40   United-States   <=50K   \n",
      "15059            0            0            60   United-States    >50K   \n",
      "\n",
      "       sex_ Female  sex_ Male  \n",
      "0                0          1  \n",
      "1                0          1  \n",
      "2                0          1  \n",
      "3                0          1  \n",
      "4                0          1  \n",
      "...            ...        ...  \n",
      "15055            0          1  \n",
      "15056            1          0  \n",
      "15057            0          1  \n",
      "15058            0          1  \n",
      "15059            0          1  \n",
      "\n",
      "[15060 rows x 16 columns]\n"
     ]
    }
   ],
   "source": [
    "# create dummies for sex\n",
    "dummies = pd.get_dummies(dftr['sex']).rename(columns=lambda x: 'sex_' + str(x))\n",
    "# bring the dummies back into the original dataset\n",
    "dftr = pd.concat([dftr, dummies], axis=1)\n",
    "print(dftr)"
   ]
  },
  {
   "cell_type": "code",
   "execution_count": 16,
   "metadata": {
    "ExecuteTime": {
     "end_time": "2021-04-12T06:48:37.411316Z",
     "start_time": "2021-04-12T06:48:37.351629Z"
    }
   },
   "outputs": [
    {
     "name": "stdout",
     "output_type": "stream",
     "text": [
      "       age      workclass      education  educationno        maritalstatus  \\\n",
      "0       25        Private           11th            7        Never-married   \n",
      "1       38        Private        HS-grad            9   Married-civ-spouse   \n",
      "2       28      Local-gov     Assoc-acdm           12   Married-civ-spouse   \n",
      "3       44        Private   Some-college           10   Married-civ-spouse   \n",
      "4       34        Private           10th            6        Never-married   \n",
      "...    ...            ...            ...          ...                  ...   \n",
      "15055   33        Private      Bachelors           13        Never-married   \n",
      "15056   39        Private      Bachelors           13             Divorced   \n",
      "15057   38        Private      Bachelors           13   Married-civ-spouse   \n",
      "15058   44        Private      Bachelors           13             Divorced   \n",
      "15059   35   Self-emp-inc      Bachelors           13   Married-civ-spouse   \n",
      "\n",
      "               occupation    relationship                 race      sex  \\\n",
      "0       Machine-op-inspct       Own-child                Black     Male   \n",
      "1         Farming-fishing         Husband                White     Male   \n",
      "2         Protective-serv         Husband                White     Male   \n",
      "3       Machine-op-inspct         Husband                Black     Male   \n",
      "4           Other-service   Not-in-family                White     Male   \n",
      "...                   ...             ...                  ...      ...   \n",
      "15055      Prof-specialty       Own-child                White     Male   \n",
      "15056      Prof-specialty   Not-in-family                White   Female   \n",
      "15057      Prof-specialty         Husband                White     Male   \n",
      "15058        Adm-clerical       Own-child   Asian-Pac-Islander     Male   \n",
      "15059     Exec-managerial         Husband                White     Male   \n",
      "\n",
      "       capitalgain  ...  Salary  sex_ Female sex_ Male  \\\n",
      "0                0  ...   <=50K            0         1   \n",
      "1                0  ...   <=50K            0         1   \n",
      "2                0  ...    >50K            0         1   \n",
      "3             7688  ...    >50K            0         1   \n",
      "4                0  ...   <=50K            0         1   \n",
      "...            ...  ...     ...          ...       ...   \n",
      "15055            0  ...   <=50K            0         1   \n",
      "15056            0  ...   <=50K            1         0   \n",
      "15057            0  ...   <=50K            0         1   \n",
      "15058         5455  ...   <=50K            0         1   \n",
      "15059            0  ...    >50K            0         1   \n",
      "\n",
      "      maritalstatus_ Divorced  maritalstatus_ Married-AF-spouse  \\\n",
      "0                           0                                 0   \n",
      "1                           0                                 0   \n",
      "2                           0                                 0   \n",
      "3                           0                                 0   \n",
      "4                           0                                 0   \n",
      "...                       ...                               ...   \n",
      "15055                       0                                 0   \n",
      "15056                       1                                 0   \n",
      "15057                       0                                 0   \n",
      "15058                       1                                 0   \n",
      "15059                       0                                 0   \n",
      "\n",
      "       maritalstatus_ Married-civ-spouse  \\\n",
      "0                                      0   \n",
      "1                                      1   \n",
      "2                                      1   \n",
      "3                                      1   \n",
      "4                                      0   \n",
      "...                                  ...   \n",
      "15055                                  0   \n",
      "15056                                  0   \n",
      "15057                                  1   \n",
      "15058                                  0   \n",
      "15059                                  1   \n",
      "\n",
      "       maritalstatus_ Married-spouse-absent  maritalstatus_ Never-married  \\\n",
      "0                                         0                             1   \n",
      "1                                         0                             0   \n",
      "2                                         0                             0   \n",
      "3                                         0                             0   \n",
      "4                                         0                             1   \n",
      "...                                     ...                           ...   \n",
      "15055                                     0                             1   \n",
      "15056                                     0                             0   \n",
      "15057                                     0                             0   \n",
      "15058                                     0                             0   \n",
      "15059                                     0                             0   \n",
      "\n",
      "       maritalstatus_ Separated  maritalstatus_ Widowed  \n",
      "0                             0                       0  \n",
      "1                             0                       0  \n",
      "2                             0                       0  \n",
      "3                             0                       0  \n",
      "4                             0                       0  \n",
      "...                         ...                     ...  \n",
      "15055                         0                       0  \n",
      "15056                         0                       0  \n",
      "15057                         0                       0  \n",
      "15058                         0                       0  \n",
      "15059                         0                       0  \n",
      "\n",
      "[15060 rows x 23 columns]\n"
     ]
    }
   ],
   "source": [
    "# create dummies for maritalstatus\n",
    "dummies = pd.get_dummies(dftr['maritalstatus']).rename(columns=lambda x: 'maritalstatus_' + str(x))\n",
    "# bring the dummies back into the original dataset\n",
    "dftr = pd.concat([dftr, dummies], axis=1)\n",
    "print(dftr)"
   ]
  },
  {
   "cell_type": "code",
   "execution_count": 18,
   "metadata": {
    "ExecuteTime": {
     "end_time": "2021-04-12T06:49:03.301670Z",
     "start_time": "2021-04-12T06:49:03.283017Z"
    }
   },
   "outputs": [
    {
     "data": {
      "text/plain": [
       "Index(['age', 'workclass', 'education', 'educationno', 'maritalstatus',\n",
       "       'occupation', 'relationship', 'race', 'sex', 'capitalgain',\n",
       "       'capitalloss', 'hoursperweek', 'native', 'Salary', 'sex_ Female',\n",
       "       'sex_ Male', 'maritalstatus_ Divorced',\n",
       "       'maritalstatus_ Married-AF-spouse', 'maritalstatus_ Married-civ-spouse',\n",
       "       'maritalstatus_ Married-spouse-absent', 'maritalstatus_ Never-married',\n",
       "       'maritalstatus_ Separated', 'maritalstatus_ Widowed'],\n",
       "      dtype='object')"
      ]
     },
     "execution_count": 18,
     "metadata": {},
     "output_type": "execute_result"
    }
   ],
   "source": [
    "dftr.columns"
   ]
  },
  {
   "cell_type": "code",
   "execution_count": 19,
   "metadata": {
    "ExecuteTime": {
     "end_time": "2021-04-12T06:49:18.891478Z",
     "start_time": "2021-04-12T06:49:18.871947Z"
    }
   },
   "outputs": [],
   "source": [
    "# Hence required columns we are considering and building the model"
   ]
  },
  {
   "cell_type": "code",
   "execution_count": 20,
   "metadata": {
    "ExecuteTime": {
     "end_time": "2021-04-12T06:49:33.921204Z",
     "start_time": "2021-04-12T06:49:33.890698Z"
    }
   },
   "outputs": [],
   "source": [
    "col = list(dftr.columns)[1:3]\n",
    "dftr.drop(col, axis=1, inplace=True)"
   ]
  },
  {
   "cell_type": "code",
   "execution_count": 21,
   "metadata": {
    "ExecuteTime": {
     "end_time": "2021-04-12T06:49:40.631124Z",
     "start_time": "2021-04-12T06:49:40.610340Z"
    }
   },
   "outputs": [],
   "source": [
    "col = list(dftr.columns)[2:11]\n",
    "dftr.drop(col, axis=1, inplace=True)"
   ]
  },
  {
   "cell_type": "code",
   "execution_count": 22,
   "metadata": {
    "ExecuteTime": {
     "end_time": "2021-04-12T06:49:46.201087Z",
     "start_time": "2021-04-12T06:49:46.181461Z"
    }
   },
   "outputs": [
    {
     "data": {
      "text/plain": [
       "Index(['age', 'educationno', 'Salary', 'sex_ Female', 'sex_ Male',\n",
       "       'maritalstatus_ Divorced', 'maritalstatus_ Married-AF-spouse',\n",
       "       'maritalstatus_ Married-civ-spouse',\n",
       "       'maritalstatus_ Married-spouse-absent', 'maritalstatus_ Never-married',\n",
       "       'maritalstatus_ Separated', 'maritalstatus_ Widowed'],\n",
       "      dtype='object')"
      ]
     },
     "execution_count": 22,
     "metadata": {},
     "output_type": "execute_result"
    }
   ],
   "source": [
    "dftr.columns"
   ]
  },
  {
   "cell_type": "code",
   "execution_count": 23,
   "metadata": {
    "ExecuteTime": {
     "end_time": "2021-04-12T06:49:53.131281Z",
     "start_time": "2021-04-12T06:49:53.110273Z"
    }
   },
   "outputs": [
    {
     "data": {
      "text/plain": [
       "(15060, 12)"
      ]
     },
     "execution_count": 23,
     "metadata": {},
     "output_type": "execute_result"
    }
   ],
   "source": [
    "dftr.shape"
   ]
  },
  {
   "cell_type": "code",
   "execution_count": 24,
   "metadata": {
    "ExecuteTime": {
     "end_time": "2021-04-12T06:50:03.078043Z",
     "start_time": "2021-04-12T06:50:03.070045Z"
    }
   },
   "outputs": [],
   "source": [
    "ip_columns = ['age','educationno','sex_ Female','sex_ Male','maritalstatus_ Divorced','maritalstatus_ Married-AF-spouse','maritalstatus_ Married-civ-spouse','maritalstatus_ Married-spouse-absent','maritalstatus_ Never-married','maritalstatus_ Separated','maritalstatus_ Widowed']\n",
    "op_column = ['Salary']"
   ]
  },
  {
   "cell_type": "code",
   "execution_count": 25,
   "metadata": {
    "ExecuteTime": {
     "end_time": "2021-04-12T06:50:12.679452Z",
     "start_time": "2021-04-12T06:50:12.650363Z"
    }
   },
   "outputs": [],
   "source": [
    "# Splitting data into train and test\n",
    "Xtrain,Xtest,ytrain,ytest = train_test_split(dftr[ip_columns],dftr[op_column],test_size=0.3, random_state=0)\n"
   ]
  },
  {
   "cell_type": "code",
   "execution_count": 27,
   "metadata": {
    "ExecuteTime": {
     "end_time": "2021-04-12T06:50:38.809562Z",
     "start_time": "2021-04-12T06:50:38.800882Z"
    }
   },
   "outputs": [],
   "source": [
    "ignb = GaussianNB()\n",
    "imnb = MultinomialNB()"
   ]
  },
  {
   "cell_type": "code",
   "execution_count": 28,
   "metadata": {
    "ExecuteTime": {
     "end_time": "2021-04-12T06:50:41.101201Z",
     "start_time": "2021-04-12T06:50:40.990306Z"
    }
   },
   "outputs": [
    {
     "name": "stderr",
     "output_type": "stream",
     "text": [
      "C:\\Users\\user\\anaconda3\\lib\\site-packages\\sklearn\\utils\\validation.py:73: DataConversionWarning: A column-vector y was passed when a 1d array was expected. Please change the shape of y to (n_samples, ), for example using ravel().\n",
      "  return f(**kwargs)\n",
      "C:\\Users\\user\\anaconda3\\lib\\site-packages\\sklearn\\utils\\validation.py:73: DataConversionWarning: A column-vector y was passed when a 1d array was expected. Please change the shape of y to (n_samples, ), for example using ravel().\n",
      "  return f(**kwargs)\n"
     ]
    }
   ],
   "source": [
    "# Building and predicting at the same time \n",
    "pred_gnb = ignb.fit(Xtrain,ytrain).predict(Xtest)\n",
    "pred_mnb = imnb.fit(Xtrain,ytrain).predict(Xtest)"
   ]
  },
  {
   "cell_type": "code",
   "execution_count": 29,
   "metadata": {
    "ExecuteTime": {
     "end_time": "2021-04-12T06:51:05.873518Z",
     "start_time": "2021-04-12T06:51:05.800584Z"
    }
   },
   "outputs": [
    {
     "data": {
      "text/plain": [
       "0.7248782647189022"
      ]
     },
     "execution_count": 29,
     "metadata": {},
     "output_type": "execute_result"
    }
   ],
   "source": [
    "# Confusion matrix GaussianNB model\n",
    "confusion_matrix(ytest,pred_gnb) # GaussianNB model\n",
    "pd.crosstab(ytest.values.flatten(),pred_gnb) # confusion matrix using \n",
    "np.mean(pred_gnb==ytest.values.flatten()) # 71.89%"
   ]
  },
  {
   "cell_type": "code",
   "execution_count": 30,
   "metadata": {
    "ExecuteTime": {
     "end_time": "2021-04-12T06:51:18.230329Z",
     "start_time": "2021-04-12T06:51:18.160225Z"
    }
   },
   "outputs": [
    {
     "data": {
      "text/plain": [
       "0.7268702965914121"
      ]
     },
     "execution_count": 30,
     "metadata": {},
     "output_type": "execute_result"
    }
   ],
   "source": [
    "# Confusion matrix multinomialNB model\n",
    "confusion_matrix(ytest,pred_mnb) # multinomialNB model\n",
    "pd.crosstab(ytest.values.flatten(),pred_mnb) # confusion matrix using \n",
    "np.mean(pred_mnb==ytest.values.flatten()) # 71.52%"
   ]
  },
  {
   "cell_type": "code",
   "execution_count": 31,
   "metadata": {
    "ExecuteTime": {
     "end_time": "2021-04-12T06:51:25.479949Z",
     "start_time": "2021-04-12T06:51:25.430025Z"
    }
   },
   "outputs": [
    {
     "data": {
      "text/plain": [
       "array([[2413,  972],\n",
       "       [ 262,  871]], dtype=int64)"
      ]
     },
     "execution_count": 31,
     "metadata": {},
     "output_type": "execute_result"
    }
   ],
   "source": [
    "confusion_matrix(ytest,pred_mnb) # multinomailNB model"
   ]
  },
  {
   "cell_type": "code",
   "execution_count": 32,
   "metadata": {
    "ExecuteTime": {
     "end_time": "2021-04-12T06:51:30.569871Z",
     "start_time": "2021-04-12T06:51:30.509247Z"
    }
   },
   "outputs": [
    {
     "data": {
      "text/plain": [
       "array([[2335, 1050],\n",
       "       [ 193,  940]], dtype=int64)"
      ]
     },
     "execution_count": 32,
     "metadata": {},
     "output_type": "execute_result"
    }
   ],
   "source": [
    "confusion_matrix(ytest,pred_gnb) # GaussianNB model"
   ]
  },
  {
   "cell_type": "code",
   "execution_count": 33,
   "metadata": {
    "ExecuteTime": {
     "end_time": "2021-04-12T06:51:37.539632Z",
     "start_time": "2021-04-12T06:51:37.519860Z"
    }
   },
   "outputs": [
    {
     "name": "stdout",
     "output_type": "stream",
     "text": [
      "Help on GaussianNB in module sklearn.naive_bayes object:\n",
      "\n",
      "class GaussianNB(_BaseNB)\n",
      " |  GaussianNB(*, priors=None, var_smoothing=1e-09)\n",
      " |  \n",
      " |  Gaussian Naive Bayes (GaussianNB)\n",
      " |  \n",
      " |  Can perform online updates to model parameters via :meth:`partial_fit`.\n",
      " |  For details on algorithm used to update feature means and variance online,\n",
      " |  see Stanford CS tech report STAN-CS-79-773 by Chan, Golub, and LeVeque:\n",
      " |  \n",
      " |      http://i.stanford.edu/pub/cstr/reports/cs/tr/79/773/CS-TR-79-773.pdf\n",
      " |  \n",
      " |  Read more in the :ref:`User Guide <gaussian_naive_bayes>`.\n",
      " |  \n",
      " |  Parameters\n",
      " |  ----------\n",
      " |  priors : array-like of shape (n_classes,)\n",
      " |      Prior probabilities of the classes. If specified the priors are not\n",
      " |      adjusted according to the data.\n",
      " |  \n",
      " |  var_smoothing : float, default=1e-9\n",
      " |      Portion of the largest variance of all features that is added to\n",
      " |      variances for calculation stability.\n",
      " |  \n",
      " |      .. versionadded:: 0.20\n",
      " |  \n",
      " |  Attributes\n",
      " |  ----------\n",
      " |  class_count_ : ndarray of shape (n_classes,)\n",
      " |      number of training samples observed in each class.\n",
      " |  \n",
      " |  class_prior_ : ndarray of shape (n_classes,)\n",
      " |      probability of each class.\n",
      " |  \n",
      " |  classes_ : ndarray of shape (n_classes,)\n",
      " |      class labels known to the classifier\n",
      " |  \n",
      " |  epsilon_ : float\n",
      " |      absolute additive value to variances\n",
      " |  \n",
      " |  sigma_ : ndarray of shape (n_classes, n_features)\n",
      " |      variance of each feature per class\n",
      " |  \n",
      " |  theta_ : ndarray of shape (n_classes, n_features)\n",
      " |      mean of each feature per class\n",
      " |  \n",
      " |  Examples\n",
      " |  --------\n",
      " |  >>> import numpy as np\n",
      " |  >>> X = np.array([[-1, -1], [-2, -1], [-3, -2], [1, 1], [2, 1], [3, 2]])\n",
      " |  >>> Y = np.array([1, 1, 1, 2, 2, 2])\n",
      " |  >>> from sklearn.naive_bayes import GaussianNB\n",
      " |  >>> clf = GaussianNB()\n",
      " |  >>> clf.fit(X, Y)\n",
      " |  GaussianNB()\n",
      " |  >>> print(clf.predict([[-0.8, -1]]))\n",
      " |  [1]\n",
      " |  >>> clf_pf = GaussianNB()\n",
      " |  >>> clf_pf.partial_fit(X, Y, np.unique(Y))\n",
      " |  GaussianNB()\n",
      " |  >>> print(clf_pf.predict([[-0.8, -1]]))\n",
      " |  [1]\n",
      " |  \n",
      " |  Method resolution order:\n",
      " |      GaussianNB\n",
      " |      _BaseNB\n",
      " |      sklearn.base.ClassifierMixin\n",
      " |      sklearn.base.BaseEstimator\n",
      " |      builtins.object\n",
      " |  \n",
      " |  Methods defined here:\n",
      " |  \n",
      " |  __init__(self, *, priors=None, var_smoothing=1e-09)\n",
      " |      Initialize self.  See help(type(self)) for accurate signature.\n",
      " |  \n",
      " |  fit(self, X, y, sample_weight=None)\n",
      " |      Fit Gaussian Naive Bayes according to X, y\n",
      " |      \n",
      " |      Parameters\n",
      " |      ----------\n",
      " |      X : array-like of shape (n_samples, n_features)\n",
      " |          Training vectors, where n_samples is the number of samples\n",
      " |          and n_features is the number of features.\n",
      " |      \n",
      " |      y : array-like of shape (n_samples,)\n",
      " |          Target values.\n",
      " |      \n",
      " |      sample_weight : array-like of shape (n_samples,), default=None\n",
      " |          Weights applied to individual samples (1. for unweighted).\n",
      " |      \n",
      " |          .. versionadded:: 0.17\n",
      " |             Gaussian Naive Bayes supports fitting with *sample_weight*.\n",
      " |      \n",
      " |      Returns\n",
      " |      -------\n",
      " |      self : object\n",
      " |  \n",
      " |  partial_fit(self, X, y, classes=None, sample_weight=None)\n",
      " |      Incremental fit on a batch of samples.\n",
      " |      \n",
      " |      This method is expected to be called several times consecutively\n",
      " |      on different chunks of a dataset so as to implement out-of-core\n",
      " |      or online learning.\n",
      " |      \n",
      " |      This is especially useful when the whole dataset is too big to fit in\n",
      " |      memory at once.\n",
      " |      \n",
      " |      This method has some performance and numerical stability overhead,\n",
      " |      hence it is better to call partial_fit on chunks of data that are\n",
      " |      as large as possible (as long as fitting in the memory budget) to\n",
      " |      hide the overhead.\n",
      " |      \n",
      " |      Parameters\n",
      " |      ----------\n",
      " |      X : array-like of shape (n_samples, n_features)\n",
      " |          Training vectors, where n_samples is the number of samples and\n",
      " |          n_features is the number of features.\n",
      " |      \n",
      " |      y : array-like of shape (n_samples,)\n",
      " |          Target values.\n",
      " |      \n",
      " |      classes : array-like of shape (n_classes,), default=None\n",
      " |          List of all the classes that can possibly appear in the y vector.\n",
      " |      \n",
      " |          Must be provided at the first call to partial_fit, can be omitted\n",
      " |          in subsequent calls.\n",
      " |      \n",
      " |      sample_weight : array-like of shape (n_samples,), default=None\n",
      " |          Weights applied to individual samples (1. for unweighted).\n",
      " |      \n",
      " |          .. versionadded:: 0.17\n",
      " |      \n",
      " |      Returns\n",
      " |      -------\n",
      " |      self : object\n",
      " |  \n",
      " |  ----------------------------------------------------------------------\n",
      " |  Data and other attributes defined here:\n",
      " |  \n",
      " |  __abstractmethods__ = frozenset()\n",
      " |  \n",
      " |  ----------------------------------------------------------------------\n",
      " |  Methods inherited from _BaseNB:\n",
      " |  \n",
      " |  predict(self, X)\n",
      " |      Perform classification on an array of test vectors X.\n",
      " |      \n",
      " |      Parameters\n",
      " |      ----------\n",
      " |      X : array-like of shape (n_samples, n_features)\n",
      " |      \n",
      " |      Returns\n",
      " |      -------\n",
      " |      C : ndarray of shape (n_samples,)\n",
      " |          Predicted target values for X\n",
      " |  \n",
      " |  predict_log_proba(self, X)\n",
      " |      Return log-probability estimates for the test vector X.\n",
      " |      \n",
      " |      Parameters\n",
      " |      ----------\n",
      " |      X : array-like of shape (n_samples, n_features)\n",
      " |      \n",
      " |      Returns\n",
      " |      -------\n",
      " |      C : array-like of shape (n_samples, n_classes)\n",
      " |          Returns the log-probability of the samples for each class in\n",
      " |          the model. The columns correspond to the classes in sorted\n",
      " |          order, as they appear in the attribute :term:`classes_`.\n",
      " |  \n",
      " |  predict_proba(self, X)\n",
      " |      Return probability estimates for the test vector X.\n",
      " |      \n",
      " |      Parameters\n",
      " |      ----------\n",
      " |      X : array-like of shape (n_samples, n_features)\n",
      " |      \n",
      " |      Returns\n",
      " |      -------\n",
      " |      C : array-like of shape (n_samples, n_classes)\n",
      " |          Returns the probability of the samples for each class in\n",
      " |          the model. The columns correspond to the classes in sorted\n",
      " |          order, as they appear in the attribute :term:`classes_`.\n",
      " |  \n",
      " |  ----------------------------------------------------------------------\n",
      " |  Methods inherited from sklearn.base.ClassifierMixin:\n",
      " |  \n",
      " |  score(self, X, y, sample_weight=None)\n",
      " |      Return the mean accuracy on the given test data and labels.\n",
      " |      \n",
      " |      In multi-label classification, this is the subset accuracy\n",
      " |      which is a harsh metric since you require for each sample that\n",
      " |      each label set be correctly predicted.\n",
      " |      \n",
      " |      Parameters\n",
      " |      ----------\n",
      " |      X : array-like of shape (n_samples, n_features)\n",
      " |          Test samples.\n",
      " |      \n",
      " |      y : array-like of shape (n_samples,) or (n_samples, n_outputs)\n",
      " |          True labels for X.\n",
      " |      \n",
      " |      sample_weight : array-like of shape (n_samples,), default=None\n",
      " |          Sample weights.\n",
      " |      \n",
      " |      Returns\n",
      " |      -------\n",
      " |      score : float\n",
      " |          Mean accuracy of self.predict(X) wrt. y.\n",
      " |  \n",
      " |  ----------------------------------------------------------------------\n",
      " |  Data descriptors inherited from sklearn.base.ClassifierMixin:\n",
      " |  \n",
      " |  __dict__\n",
      " |      dictionary for instance variables (if defined)\n",
      " |  \n",
      " |  __weakref__\n",
      " |      list of weak references to the object (if defined)\n",
      " |  \n",
      " |  ----------------------------------------------------------------------\n",
      " |  Methods inherited from sklearn.base.BaseEstimator:\n",
      " |  \n",
      " |  __getstate__(self)\n",
      " |  \n",
      " |  __repr__(self, N_CHAR_MAX=700)\n",
      " |      Return repr(self).\n",
      " |  \n",
      " |  __setstate__(self, state)\n",
      " |  \n",
      " |  get_params(self, deep=True)\n",
      " |      Get parameters for this estimator.\n",
      " |      \n",
      " |      Parameters\n",
      " |      ----------\n",
      " |      deep : bool, default=True\n",
      " |          If True, will return the parameters for this estimator and\n",
      " |          contained subobjects that are estimators.\n",
      " |      \n",
      " |      Returns\n",
      " |      -------\n",
      " |      params : mapping of string to any\n",
      " |          Parameter names mapped to their values.\n",
      " |  \n",
      " |  set_params(self, **params)\n",
      " |      Set the parameters of this estimator.\n",
      " |      \n",
      " |      The method works on simple estimators as well as on nested objects\n",
      " |      (such as pipelines). The latter have parameters of the form\n",
      " |      ``<component>__<parameter>`` so that it's possible to update each\n",
      " |      component of a nested object.\n",
      " |      \n",
      " |      Parameters\n",
      " |      ----------\n",
      " |      **params : dict\n",
      " |          Estimator parameters.\n",
      " |      \n",
      " |      Returns\n",
      " |      -------\n",
      " |      self : object\n",
      " |          Estimator instance.\n",
      "\n"
     ]
    }
   ],
   "source": [
    "help(GaussianNB())"
   ]
  },
  {
   "cell_type": "code",
   "execution_count": 34,
   "metadata": {
    "ExecuteTime": {
     "end_time": "2021-04-12T06:51:58.479672Z",
     "start_time": "2021-04-12T06:51:58.469271Z"
    }
   },
   "outputs": [],
   "source": [
    "# CONCLUSION : My GaussianNB model and  multinomialNB model given 71.5 % Accuracy So Bagging Technique applied om my both the models that accuracy is 73% and Also Adaptive Boosting Tecnique Given  79% Accuracy"
   ]
  },
  {
   "cell_type": "code",
   "execution_count": null,
   "metadata": {},
   "outputs": [],
   "source": []
  }
 ],
 "metadata": {
  "kernelspec": {
   "display_name": "Python 3",
   "language": "python",
   "name": "python3"
  },
  "language_info": {
   "codemirror_mode": {
    "name": "ipython",
    "version": 3
   },
   "file_extension": ".py",
   "mimetype": "text/x-python",
   "name": "python",
   "nbconvert_exporter": "python",
   "pygments_lexer": "ipython3",
   "version": "3.8.3"
  },
  "varInspector": {
   "cols": {
    "lenName": 16,
    "lenType": 16,
    "lenVar": 40
   },
   "kernels_config": {
    "python": {
     "delete_cmd_postfix": "",
     "delete_cmd_prefix": "del ",
     "library": "var_list.py",
     "varRefreshCmd": "print(var_dic_list())"
    },
    "r": {
     "delete_cmd_postfix": ") ",
     "delete_cmd_prefix": "rm(",
     "library": "var_list.r",
     "varRefreshCmd": "cat(var_dic_list()) "
    }
   },
   "types_to_exclude": [
    "module",
    "function",
    "builtin_function_or_method",
    "instance",
    "_Feature"
   ],
   "window_display": false
  }
 },
 "nbformat": 4,
 "nbformat_minor": 4
}
